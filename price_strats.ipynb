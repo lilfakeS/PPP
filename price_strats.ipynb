{
 "cells": [
  {
   "cell_type": "code",
   "execution_count": 16,
   "metadata": {},
   "outputs": [
    {
     "data": {
      "text/html": [
       "<div>\n",
       "<style scoped>\n",
       "    .dataframe tbody tr th:only-of-type {\n",
       "        vertical-align: middle;\n",
       "    }\n",
       "\n",
       "    .dataframe tbody tr th {\n",
       "        vertical-align: top;\n",
       "    }\n",
       "\n",
       "    .dataframe thead th {\n",
       "        text-align: right;\n",
       "    }\n",
       "</style>\n",
       "<table border=\"1\" class=\"dataframe\">\n",
       "  <thead>\n",
       "    <tr style=\"text-align: right;\">\n",
       "      <th></th>\n",
       "      <th>ID</th>\n",
       "      <th>Weight</th>\n",
       "      <th>Length</th>\n",
       "      <th>Width</th>\n",
       "      <th>Price</th>\n",
       "      <th>Price_1</th>\n",
       "      <th>Weight_1</th>\n",
       "    </tr>\n",
       "  </thead>\n",
       "  <tbody>\n",
       "    <tr>\n",
       "      <th>0</th>\n",
       "      <td>1</td>\n",
       "      <td>135.0</td>\n",
       "      <td>900.0</td>\n",
       "      <td>640.0</td>\n",
       "      <td>1.94</td>\n",
       "      <td>0.12</td>\n",
       "      <td>9.028125</td>\n",
       "    </tr>\n",
       "    <tr>\n",
       "      <th>1</th>\n",
       "      <td>2</td>\n",
       "      <td>170.0</td>\n",
       "      <td>597.0</td>\n",
       "      <td>889.0</td>\n",
       "      <td>2.26</td>\n",
       "      <td>0.14</td>\n",
       "      <td>11.368750</td>\n",
       "    </tr>\n",
       "    <tr>\n",
       "      <th>2</th>\n",
       "      <td>3</td>\n",
       "      <td>170.0</td>\n",
       "      <td>889.0</td>\n",
       "      <td>635.0</td>\n",
       "      <td>2.40</td>\n",
       "      <td>0.15</td>\n",
       "      <td>11.368750</td>\n",
       "    </tr>\n",
       "    <tr>\n",
       "      <th>3</th>\n",
       "      <td>4</td>\n",
       "      <td>95.0</td>\n",
       "      <td>787.0</td>\n",
       "      <td>1092.0</td>\n",
       "      <td>1.55</td>\n",
       "      <td>0.10</td>\n",
       "      <td>6.353125</td>\n",
       "    </tr>\n",
       "    <tr>\n",
       "      <th>4</th>\n",
       "      <td>5</td>\n",
       "      <td>95.0</td>\n",
       "      <td>889.0</td>\n",
       "      <td>1194.0</td>\n",
       "      <td>1.92</td>\n",
       "      <td>0.12</td>\n",
       "      <td>6.353125</td>\n",
       "    </tr>\n",
       "  </tbody>\n",
       "</table>\n",
       "</div>"
      ],
      "text/plain": [
       "   ID  Weight  Length   Width   Price   Price_1   Weight_1\n",
       "0   1   135.0   900.0   640.0     1.94     0.12   9.028125\n",
       "1   2   170.0   597.0   889.0     2.26     0.14  11.368750\n",
       "2   3   170.0   889.0   635.0     2.40     0.15  11.368750\n",
       "3   4    95.0   787.0  1092.0     1.55     0.10   6.353125\n",
       "4   5    95.0   889.0  1194.0     1.92     0.12   6.353125"
      ]
     },
     "execution_count": 16,
     "metadata": {},
     "output_type": "execute_result"
    }
   ],
   "source": [
    "import pandas as pd\n",
    "\n",
    "# Load the data from the uploaded CSV file\n",
    "file_path = 'https://raw.githubusercontent.com/lilfakeS/PPP/main/PAPERLIVE%20%E5%B8%82%E5%9C%BA%E4%BB%B7%E6%A0%BC%E6%9C%80%E6%96%B0%E7%89%88_2023.csv'\n",
    "paper_data = pd.read_csv(file_path)\n",
    "\n",
    "# Display the first few rows of the data to understand its structure\n",
    "paper_data.head()"
   ]
  },
  {
   "cell_type": "code",
   "execution_count": 2,
   "metadata": {},
   "outputs": [
    {
     "data": {
      "text/html": [
       "<div>\n",
       "<style scoped>\n",
       "    .dataframe tbody tr th:only-of-type {\n",
       "        vertical-align: middle;\n",
       "    }\n",
       "\n",
       "    .dataframe tbody tr th {\n",
       "        vertical-align: top;\n",
       "    }\n",
       "\n",
       "    .dataframe thead th {\n",
       "        text-align: right;\n",
       "    }\n",
       "</style>\n",
       "<table border=\"1\" class=\"dataframe\">\n",
       "  <thead>\n",
       "    <tr style=\"text-align: right;\">\n",
       "      <th></th>\n",
       "      <th>KG</th>\n",
       "      <th>RMB</th>\n",
       "      <th>Unnamed: 2</th>\n",
       "      <th>Unnamed: 3</th>\n",
       "      <th>Unnamed: 4</th>\n",
       "      <th>Unnamed: 5</th>\n",
       "    </tr>\n",
       "  </thead>\n",
       "  <tbody>\n",
       "    <tr>\n",
       "      <th>0</th>\n",
       "      <td>0.5</td>\n",
       "      <td>228.6</td>\n",
       "      <td>NaN</td>\n",
       "      <td>NaN</td>\n",
       "      <td>NaN</td>\n",
       "      <td>NaN</td>\n",
       "    </tr>\n",
       "    <tr>\n",
       "      <th>1</th>\n",
       "      <td>1</td>\n",
       "      <td>257.4</td>\n",
       "      <td>NaN</td>\n",
       "      <td>NaN</td>\n",
       "      <td>NaN</td>\n",
       "      <td>NaN</td>\n",
       "    </tr>\n",
       "    <tr>\n",
       "      <th>2</th>\n",
       "      <td>1.5</td>\n",
       "      <td>286</td>\n",
       "      <td>NaN</td>\n",
       "      <td>NaN</td>\n",
       "      <td>NaN</td>\n",
       "      <td>NaN</td>\n",
       "    </tr>\n",
       "    <tr>\n",
       "      <th>3</th>\n",
       "      <td>2</td>\n",
       "      <td>314. 6</td>\n",
       "      <td>NaN</td>\n",
       "      <td>NaN</td>\n",
       "      <td>NaN</td>\n",
       "      <td>NaN</td>\n",
       "    </tr>\n",
       "    <tr>\n",
       "      <th>4</th>\n",
       "      <td>2.5</td>\n",
       "      <td>343. 3</td>\n",
       "      <td>NaN</td>\n",
       "      <td>NaN</td>\n",
       "      <td>NaN</td>\n",
       "      <td>NaN</td>\n",
       "    </tr>\n",
       "  </tbody>\n",
       "</table>\n",
       "</div>"
      ],
      "text/plain": [
       "    KG     RMB  Unnamed: 2  Unnamed: 3  Unnamed: 4  Unnamed: 5\n",
       "0  0.5   228.6         NaN         NaN         NaN         NaN\n",
       "1    1   257.4         NaN         NaN         NaN         NaN\n",
       "2  1.5     286         NaN         NaN         NaN         NaN\n",
       "3    2  314. 6         NaN         NaN         NaN         NaN\n",
       "4  2.5  343. 3         NaN         NaN         NaN         NaN"
      ]
     },
     "execution_count": 2,
     "metadata": {},
     "output_type": "execute_result"
    }
   ],
   "source": [
    "# Load the data from the uploaded CSV file\n",
    "trans_file_path = 'https://raw.githubusercontent.com/lilfakeS/PPP/main/Trans.csv'\n",
    "trans_data = pd.read_csv(trans_file_path)\n",
    "\n",
    "# Display the first few rows of the data to understand its structure\n",
    "trans_data.head()"
   ]
  },
  {
   "cell_type": "code",
   "execution_count": 3,
   "metadata": {},
   "outputs": [
    {
     "data": {
      "text/html": [
       "<div>\n",
       "<style scoped>\n",
       "    .dataframe tbody tr th:only-of-type {\n",
       "        vertical-align: middle;\n",
       "    }\n",
       "\n",
       "    .dataframe tbody tr th {\n",
       "        vertical-align: top;\n",
       "    }\n",
       "\n",
       "    .dataframe thead th {\n",
       "        text-align: right;\n",
       "    }\n",
       "</style>\n",
       "<table border=\"1\" class=\"dataframe\">\n",
       "  <thead>\n",
       "    <tr style=\"text-align: right;\">\n",
       "      <th></th>\n",
       "      <th>KG</th>\n",
       "      <th>RMB</th>\n",
       "    </tr>\n",
       "  </thead>\n",
       "  <tbody>\n",
       "    <tr>\n",
       "      <th>0</th>\n",
       "      <td>0.5</td>\n",
       "      <td>228.6</td>\n",
       "    </tr>\n",
       "    <tr>\n",
       "      <th>1</th>\n",
       "      <td>1.0</td>\n",
       "      <td>257.4</td>\n",
       "    </tr>\n",
       "    <tr>\n",
       "      <th>2</th>\n",
       "      <td>1.5</td>\n",
       "      <td>286.0</td>\n",
       "    </tr>\n",
       "    <tr>\n",
       "      <th>3</th>\n",
       "      <td>2.0</td>\n",
       "      <td>314.6</td>\n",
       "    </tr>\n",
       "    <tr>\n",
       "      <th>4</th>\n",
       "      <td>2.5</td>\n",
       "      <td>343.3</td>\n",
       "    </tr>\n",
       "  </tbody>\n",
       "</table>\n",
       "</div>"
      ],
      "text/plain": [
       "    KG    RMB\n",
       "0  0.5  228.6\n",
       "1  1.0  257.4\n",
       "2  1.5  286.0\n",
       "3  2.0  314.6\n",
       "4  2.5  343.3"
      ]
     },
     "execution_count": 3,
     "metadata": {},
     "output_type": "execute_result"
    }
   ],
   "source": [
    "\n",
    "# Remove any whitespace from the 'RMB' column\n",
    "trans_data['RMB'] = trans_data['RMB'].astype(str).str.replace(\" \", \"\")\n",
    "\n",
    "# Convert the 'RMB' column to numeric values\n",
    "trans_data['RMB'] = pd.to_numeric(trans_data['RMB'], errors='coerce')\n",
    "\n",
    "# Drop the empty and unnecessary columns\n",
    "trans_data = trans_data[['KG', 'RMB']].dropna()\n",
    "\n",
    "# Convert 'KG' to numeric as well, just in case it's read as a string\n",
    "trans_data['KG'] = pd.to_numeric(trans_data['KG'], errors='coerce')\n",
    "\n",
    "# Display the cleaned data\n",
    "trans_data.head()"
   ]
  },
  {
   "cell_type": "code",
   "execution_count": 18,
   "metadata": {},
   "outputs": [
    {
     "data": {
      "text/html": [
       "<div>\n",
       "<style scoped>\n",
       "    .dataframe tbody tr th:only-of-type {\n",
       "        vertical-align: middle;\n",
       "    }\n",
       "\n",
       "    .dataframe tbody tr th {\n",
       "        vertical-align: top;\n",
       "    }\n",
       "\n",
       "    .dataframe thead th {\n",
       "        text-align: right;\n",
       "    }\n",
       "</style>\n",
       "<table border=\"1\" class=\"dataframe\">\n",
       "  <thead>\n",
       "    <tr style=\"text-align: right;\">\n",
       "      <th></th>\n",
       "      <th>ID</th>\n",
       "      <th>Weight</th>\n",
       "      <th>Length</th>\n",
       "      <th>Width</th>\n",
       "      <th>Price</th>\n",
       "      <th>Price_1</th>\n",
       "      <th>Weight_1</th>\n",
       "      <th>Class</th>\n",
       "    </tr>\n",
       "  </thead>\n",
       "  <tbody>\n",
       "    <tr>\n",
       "      <th>0</th>\n",
       "      <td>1</td>\n",
       "      <td>135.0</td>\n",
       "      <td>900.0</td>\n",
       "      <td>640.0</td>\n",
       "      <td>1.94</td>\n",
       "      <td>0.12</td>\n",
       "      <td>9.028125</td>\n",
       "      <td>A</td>\n",
       "    </tr>\n",
       "    <tr>\n",
       "      <th>1</th>\n",
       "      <td>2</td>\n",
       "      <td>170.0</td>\n",
       "      <td>597.0</td>\n",
       "      <td>889.0</td>\n",
       "      <td>2.26</td>\n",
       "      <td>0.14</td>\n",
       "      <td>11.368750</td>\n",
       "      <td>A</td>\n",
       "    </tr>\n",
       "    <tr>\n",
       "      <th>2</th>\n",
       "      <td>3</td>\n",
       "      <td>170.0</td>\n",
       "      <td>889.0</td>\n",
       "      <td>635.0</td>\n",
       "      <td>2.40</td>\n",
       "      <td>0.15</td>\n",
       "      <td>11.368750</td>\n",
       "      <td>A</td>\n",
       "    </tr>\n",
       "    <tr>\n",
       "      <th>3</th>\n",
       "      <td>4</td>\n",
       "      <td>95.0</td>\n",
       "      <td>787.0</td>\n",
       "      <td>1092.0</td>\n",
       "      <td>1.55</td>\n",
       "      <td>0.10</td>\n",
       "      <td>6.353125</td>\n",
       "      <td>A</td>\n",
       "    </tr>\n",
       "    <tr>\n",
       "      <th>4</th>\n",
       "      <td>5</td>\n",
       "      <td>95.0</td>\n",
       "      <td>889.0</td>\n",
       "      <td>1194.0</td>\n",
       "      <td>1.92</td>\n",
       "      <td>0.12</td>\n",
       "      <td>6.353125</td>\n",
       "      <td>A</td>\n",
       "    </tr>\n",
       "  </tbody>\n",
       "</table>\n",
       "</div>"
      ],
      "text/plain": [
       "   ID  Weight  Length   Width   Price   Price_1   Weight_1 Class\n",
       "0   1   135.0   900.0   640.0     1.94     0.12   9.028125     A\n",
       "1   2   170.0   597.0   889.0     2.26     0.14  11.368750     A\n",
       "2   3   170.0   889.0   635.0     2.40     0.15  11.368750     A\n",
       "3   4    95.0   787.0  1092.0     1.55     0.10   6.353125     A\n",
       "4   5    95.0   889.0  1194.0     1.92     0.12   6.353125     A"
      ]
     },
     "execution_count": 18,
     "metadata": {},
     "output_type": "execute_result"
    }
   ],
   "source": [
    "# Correcting the column name and categorizing the items\n",
    "paper_data['Class'] = paper_data[' Price '].apply(lambda x: 'A' if x < 6 else 'B')\n",
    "\n",
    "# Display the updated dataframe to verify the classification\n",
    "paper_data.head()\n"
   ]
  },
  {
   "cell_type": "code",
   "execution_count": 19,
   "metadata": {},
   "outputs": [
    {
     "data": {
      "text/html": [
       "<div>\n",
       "<style scoped>\n",
       "    .dataframe tbody tr th:only-of-type {\n",
       "        vertical-align: middle;\n",
       "    }\n",
       "\n",
       "    .dataframe tbody tr th {\n",
       "        vertical-align: top;\n",
       "    }\n",
       "\n",
       "    .dataframe thead th {\n",
       "        text-align: right;\n",
       "    }\n",
       "</style>\n",
       "<table border=\"1\" class=\"dataframe\">\n",
       "  <thead>\n",
       "    <tr style=\"text-align: right;\">\n",
       "      <th></th>\n",
       "      <th>Price_1</th>\n",
       "      <th>Price_distributor</th>\n",
       "      <th>Price_dealer</th>\n",
       "      <th>Price_retailer</th>\n",
       "    </tr>\n",
       "  </thead>\n",
       "  <tbody>\n",
       "    <tr>\n",
       "      <th>0</th>\n",
       "      <td>0.12</td>\n",
       "      <td>0.072</td>\n",
       "      <td>0.0900</td>\n",
       "      <td>0.108</td>\n",
       "    </tr>\n",
       "    <tr>\n",
       "      <th>1</th>\n",
       "      <td>0.14</td>\n",
       "      <td>0.084</td>\n",
       "      <td>0.1050</td>\n",
       "      <td>0.126</td>\n",
       "    </tr>\n",
       "    <tr>\n",
       "      <th>2</th>\n",
       "      <td>0.15</td>\n",
       "      <td>0.090</td>\n",
       "      <td>0.1125</td>\n",
       "      <td>0.135</td>\n",
       "    </tr>\n",
       "    <tr>\n",
       "      <th>3</th>\n",
       "      <td>0.10</td>\n",
       "      <td>0.060</td>\n",
       "      <td>0.0750</td>\n",
       "      <td>0.090</td>\n",
       "    </tr>\n",
       "    <tr>\n",
       "      <th>4</th>\n",
       "      <td>0.12</td>\n",
       "      <td>0.072</td>\n",
       "      <td>0.0900</td>\n",
       "      <td>0.108</td>\n",
       "    </tr>\n",
       "  </tbody>\n",
       "</table>\n",
       "</div>"
      ],
      "text/plain": [
       "   Price_1  Price_distributor  Price_dealer  Price_retailer\n",
       "0     0.12              0.072        0.0900           0.108\n",
       "1     0.14              0.084        0.1050           0.126\n",
       "2     0.15              0.090        0.1125           0.135\n",
       "3     0.10              0.060        0.0750           0.090\n",
       "4     0.12              0.072        0.0900           0.108"
      ]
     },
     "execution_count": 19,
     "metadata": {},
     "output_type": "execute_result"
    }
   ],
   "source": [
    "# Defining discount percentages for each channel\n",
    "discounts = {\n",
    "    'distributor': 0.40,  # 40% discount\n",
    "    'dealer': 0.25,       # Average of 20-30% discount, using 25% as a midpoint\n",
    "    'retailer': 0.10       # 10% discount\n",
    "}\n",
    "\n",
    "# Applying discounts to calculate selling prices for each channel\n",
    "for channel, discount in discounts.items():\n",
    "    discounted_price_column = f'Price_{channel}'\n",
    "    paper_data[discounted_price_column] = paper_data['Price_1'] * (1 - discount)\n",
    "\n",
    "# Display the dataframe with new columns for discounted prices\n",
    "paper_data[['Price_1', 'Price_distributor', 'Price_dealer', 'Price_retailer']].head()\n"
   ]
  },
  {
   "cell_type": "code",
   "execution_count": 65,
   "metadata": {},
   "outputs": [
    {
     "data": {
      "text/plain": [
       "{'distributor': 76800.0, 'dealer': 32000.0, 'retailer': 12800.0}"
      ]
     },
     "execution_count": 65,
     "metadata": {},
     "output_type": "execute_result"
    }
   ],
   "source": [
    "# Total estimated annual revenue in RMB\n",
    "total_revenue = 320000/2.5\n",
    "\n",
    "# Sales distribution by class\n",
    "sales_distribution = {\n",
    "    'A': 0.45,  # 45% of sales are A class products\n",
    "    'B': 0.55   # 55% of sales are B class products\n",
    "}\n",
    "\n",
    "# Sales distribution by channel\n",
    "channel_distribution = {\n",
    "    'distributor': 0.60,  # 60% of sales go to distributors\n",
    "    'dealer': 0.25,       # 25% of sales go to dealers\n",
    "    'retailer': 0.10      # 10% of sales go to retailers\n",
    "    # Remaining 5% can be attributed to direct sales or other channels\n",
    "}\n",
    "\n",
    "# Calculating total sales volume for each class\n",
    "total_sales_volume = {\n",
    "    'A': total_revenue * sales_distribution['A'],\n",
    "    'B': total_revenue * sales_distribution['B']\n",
    "}\n",
    "\n",
    "# Allocating sales volume to each channel based on their distribution\n",
    "channel_revenue = {}\n",
    "for channel in channel_distribution:\n",
    "    revenue_A = total_sales_volume['A'] * channel_distribution[channel]\n",
    "    revenue_B = total_sales_volume['B'] * channel_distribution[channel]\n",
    "    channel_revenue[channel] = revenue_A + revenue_B\n",
    "\n",
    "channel_revenue\n",
    "\n"
   ]
  },
  {
   "cell_type": "code",
   "execution_count": 66,
   "metadata": {},
   "outputs": [
    {
     "data": {
      "text/plain": [
       "(248329.45163895932,\n",
       " {'distributor': 146687.35824280768,\n",
       "  'dealer': 48895.7860809359,\n",
       "  'retailer': 16298.595360311963})"
      ]
     },
     "execution_count": 66,
     "metadata": {},
     "output_type": "execute_result"
    }
   ],
   "source": [
    "# Calculating the average selling price for each class and channel\n",
    "average_prices = {}\n",
    "for channel in channel_distribution:\n",
    "    # Calculating average price for each class\n",
    "    for class_type in ['A', 'B']:\n",
    "        discounted_price_column = f'Price_{channel}'\n",
    "        # Filtering data based on class and calculating the average\n",
    "        average_price = paper_data[paper_data['Class'] == class_type][discounted_price_column].mean()\n",
    "        average_prices[(channel, class_type)] = average_price\n",
    "\n",
    "# Calculating the weighted average selling price for the total sales\n",
    "weighted_avg_price = sum(\n",
    "    [average_prices[(channel, class_type)] * sales_distribution[class_type] * channel_distribution[channel] \n",
    "     for channel in channel_distribution for class_type in ['A', 'B']]\n",
    ")\n",
    "\n",
    "# Calculating total sales volume\n",
    "total_sales_volume = total_revenue / weighted_avg_price\n",
    "\n",
    "# Calculating sales volume for each channel\n",
    "channel_sales_volume = {channel: channel_revenue[channel] / average_prices[(channel, class_type)]\n",
    "                        for channel in channel_distribution for class_type in ['A', 'B']}\n",
    "\n",
    "total_sales_volume, channel_sales_volume\n",
    "\n",
    "\n",
    "\n"
   ]
  },
  {
   "cell_type": "code",
   "execution_count": 67,
   "metadata": {},
   "outputs": [
    {
     "data": {
      "text/plain": [
       "(248329.45163895932,\n",
       " {'distributor': 158310.02541983654,\n",
       "  'dealer': 52770.008473278845,\n",
       "  'retailer': 17590.00282442628})"
      ]
     },
     "execution_count": 67,
     "metadata": {},
     "output_type": "execute_result"
    }
   ],
   "source": [
    "# Recalculating the weighted average selling prices for each channel\n",
    "weighted_avg_prices_channel = {}\n",
    "for channel in channel_distribution:\n",
    "    weighted_avg_price_channel = sum(\n",
    "        average_prices[(channel, class_type)] * sales_distribution[class_type] \n",
    "        for class_type in ['A', 'B']\n",
    "    )\n",
    "    weighted_avg_prices_channel[channel] = weighted_avg_price_channel\n",
    "\n",
    "# Calculating the overall weighted average selling price\n",
    "overall_weighted_avg_price = sum(\n",
    "    weighted_avg_prices_channel[channel] * channel_distribution[channel] \n",
    "    for channel in channel_distribution\n",
    ")\n",
    "\n",
    "# Recalculating total sales volume\n",
    "total_sales_volume_corrected = total_revenue / overall_weighted_avg_price\n",
    "\n",
    "# Recalculating sales volume for each channel\n",
    "channel_sales_volume_corrected = {\n",
    "    channel: channel_revenue[channel] / weighted_avg_prices_channel[channel] \n",
    "    for channel in channel_distribution\n",
    "}\n",
    "\n",
    "total_sales_volume_corrected, channel_sales_volume_corrected\n",
    "\n"
   ]
  },
  {
   "cell_type": "code",
   "execution_count": 68,
   "metadata": {},
   "outputs": [
    {
     "data": {
      "text/plain": [
       "(248329.45163895932,\n",
       " {'distributor': 148997.67098337557,\n",
       "  'dealer': 62082.36290973983,\n",
       "  'retailer': 24832.945163895933})"
      ]
     },
     "execution_count": 68,
     "metadata": {},
     "output_type": "execute_result"
    }
   ],
   "source": [
    "# Recalculating the total sales volume\n",
    "total_sales_volume_recalculated = total_revenue / overall_weighted_avg_price\n",
    "\n",
    "# Distributing the total sales volume among the channels\n",
    "channel_sales_volume_recalculated = {\n",
    "    channel: total_sales_volume_recalculated * channel_distribution[channel] \n",
    "    for channel in channel_distribution\n",
    "}\n",
    "\n",
    "total_sales_volume_recalculated, channel_sales_volume_recalculated\n",
    "\n"
   ]
  },
  {
   "cell_type": "code",
   "execution_count": 69,
   "metadata": {},
   "outputs": [
    {
     "data": {
      "text/plain": [
       "(0.8358578052550231,\n",
       " 207568.11042712393,\n",
       " {'distributor': 124540.86625627434,\n",
       "  'dealer': 51892.02760678098,\n",
       "  'retailer': 20756.811042712394})"
      ]
     },
     "execution_count": 69,
     "metadata": {},
     "output_type": "execute_result"
    }
   ],
   "source": [
    "# Calculating the average purchase price (assuming Price_1 as a reference)\n",
    "average_purchase_price = paper_data['Price_1'].mean()\n",
    "\n",
    "# Calculating total purchase cost\n",
    "total_purchase_cost = average_purchase_price * total_sales_volume_recalculated\n",
    "\n",
    "# Calculating purchase cost for each channel\n",
    "channel_purchase_cost = {\n",
    "    channel: average_purchase_price * volume \n",
    "    for channel, volume in channel_sales_volume_recalculated.items()\n",
    "}\n",
    "\n",
    "average_purchase_price, total_purchase_cost, channel_purchase_cost\n",
    "\n"
   ]
  },
  {
   "cell_type": "code",
   "execution_count": 70,
   "metadata": {},
   "outputs": [
    {
     "data": {
      "text/plain": [
       "(13.783255781119964, 3422.7883499250365)"
      ]
     },
     "execution_count": 70,
     "metadata": {},
     "output_type": "execute_result"
    }
   ],
   "source": [
    "# Calculating the average weight per unit\n",
    "average_weight_per_unit = paper_data['Weight_1'].mean()\n",
    "\n",
    "# Calculating total weight of the goods\n",
    "total_weight = average_weight_per_unit * total_sales_volume_recalculated/1000\n",
    "\n",
    "average_weight_per_unit, total_weight\n",
    "\n"
   ]
  },
  {
   "cell_type": "code",
   "execution_count": 71,
   "metadata": {},
   "outputs": [
    {
     "name": "stdout",
     "output_type": "stream",
     "text": [
      "430049.3531722513\n"
     ]
    }
   ],
   "source": [
    "total_cost = total_weight* 65 + total_purchase_cost\n",
    "print(total_cost)"
   ]
  },
  {
   "cell_type": "code",
   "execution_count": 72,
   "metadata": {},
   "outputs": [
    {
     "name": "stdout",
     "output_type": "stream",
     "text": [
      "0.34390422866328535\n"
     ]
    }
   ],
   "source": [
    "discount_rate = (total_cost-320000) / 320000\n",
    "print(discount_rate)"
   ]
  }
 ],
 "metadata": {
  "kernelspec": {
   "display_name": "Python 3",
   "language": "python",
   "name": "python3"
  },
  "language_info": {
   "codemirror_mode": {
    "name": "ipython",
    "version": 3
   },
   "file_extension": ".py",
   "mimetype": "text/x-python",
   "name": "python",
   "nbconvert_exporter": "python",
   "pygments_lexer": "ipython3",
   "version": "3.11.6"
  }
 },
 "nbformat": 4,
 "nbformat_minor": 2
}
